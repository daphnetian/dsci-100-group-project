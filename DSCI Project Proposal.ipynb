{
 "cells": [
  {
   "cell_type": "markdown",
   "metadata": {},
   "source": [
    "### Project Proposal: \n",
    "\n",
    "## Classification of Attributes most Correlated with Heart Disease "
   ]
  },
  {
   "cell_type": "markdown",
   "metadata": {},
   "source": [
    "#### Introduction"
   ]
  },
  {
   "cell_type": "markdown",
   "metadata": {},
   "source": [
    "I. The project is build upon the identification of heart disease and the attributes of patients who have or do not have presence of heart disease identified. \n",
    "\n",
    "II. The question we will attempt to answer with this project is: Which attribute appears to be the most present in patients with heart disease and is there a positive correlation?\n",
    "\n",
    "III. The dataset used for this project is the 'Heart Disease Data Set' provided by the UCL Machine Learning Repository. The database contains 76 attributes, but we will only categorize a subset of 5-10 of them, of which is already known to be common indication of heart disease. Additionally, only the Cleveland sub database will be used, as it is the only one only by ML researchers to this date. (Or try Hungary/Switzerland?)"
   ]
  },
  {
   "cell_type": "markdown",
   "metadata": {},
   "source": [
    "#### Preliminary Exploratory Data Analysis"
   ]
  },
  {
   "cell_type": "markdown",
   "metadata": {},
   "source": [
    "1. Read the dataset from web into R\n"
   ]
  },
  {
   "cell_type": "code",
   "execution_count": 2,
   "metadata": {},
   "outputs": [
    {
     "ename": "ERROR",
     "evalue": "Error in read_(\"dsci project/processed.cleveland.data\"): could not find function \"read_\"\n",
     "output_type": "error",
     "traceback": [
      "Error in read_(\"dsci project/processed.cleveland.data\"): could not find function \"read_\"\nTraceback:\n"
     ]
    }
   ],
   "source": [
    "heart_disease_data <- read_(\"dsci project/processed.cleveland.data\")"
   ]
  },
  {
   "cell_type": "markdown",
   "metadata": {},
   "source": [
    "2. Clean and wrangle data into tidy format"
   ]
  },
  {
   "cell_type": "markdown",
   "metadata": {},
   "source": [
    "#### Methods"
   ]
  },
  {
   "cell_type": "markdown",
   "metadata": {},
   "source": [
    "We will conduct our data analysis by ...\n",
    "The variables and columns we will use are ...\n",
    "\n",
    "We will visualize our results in the form of a scatterplot (?). "
   ]
  },
  {
   "cell_type": "markdown",
   "metadata": {},
   "source": [
    "#### Expected Outcomes and Significance"
   ]
  },
  {
   "cell_type": "markdown",
   "metadata": {},
   "source": [
    "I We expect to find that heart disease has a high correlation with the attributes of cholestrol levels, age, the resting blood pressure (trestbps) and the maximum hear rate achieved (thalach). \n",
    "\n",
    "II. The impacts of these findings would contribute to developing the current knowledge of factors of heart disease. Identifying the most influential components may help people decrease their odds of heart disease upon knowing which things are at play.\n",
    "\n",
    "III. In the future this could lead to questions of ..."
   ]
  },
  {
   "cell_type": "code",
   "execution_count": null,
   "metadata": {},
   "outputs": [],
   "source": []
  }
 ],
 "metadata": {
  "kernelspec": {
   "display_name": "R",
   "language": "R",
   "name": "ir"
  },
  "language_info": {
   "codemirror_mode": "r",
   "file_extension": ".r",
   "mimetype": "text/x-r-source",
   "name": "R",
   "pygments_lexer": "r",
   "version": "4.0.0"
  }
 },
 "nbformat": 4,
 "nbformat_minor": 4
}
