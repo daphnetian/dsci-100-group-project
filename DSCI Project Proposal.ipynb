{
 "cells": [
  {
   "cell_type": "markdown",
   "metadata": {},
   "source": [
    "### Project Proposal: \n",
    "\n",
    "## Classification of Attributes to Best Predict Heart Disease "
   ]
  },
  {
   "cell_type": "markdown",
   "metadata": {},
   "source": [
    "#### Introduction"
   ]
  },
  {
   "cell_type": "markdown",
   "metadata": {},
   "source": [
    "I. The project is build upon the identification of heart disease and the attributes of patients who have or do not have presence of heart disease identified. From pre-existing research, the most common factors of heart diseases are known to be correlated with high blood pressure, high cholesterol, smoking. Men are also known to be at higher risk of heart disease. \n",
    "\n",
    "II. The question we will attempt to answer with this project is: Which three attribute can best predict the presence of heart diesease in patients?\n",
    "\n",
    "III. The dataset used for this project is the 'Heart Disease Data Set' provided by the UCL Machine Learning Repository. The database contains 76 attributes, but we will only categorize a subset of six of them, of which is already known to be common indication of heart disease as previously mentioned. Additionally, only the Cleveland sub database will be used, as it is the only one only by ML researchers to this date. (Or try Hungary/Switzerland?)."
   ]
  },
  {
   "cell_type": "markdown",
   "metadata": {},
   "source": [
    "#### Preliminary Exploratory Data Analysis"
   ]
  },
  {
   "cell_type": "code",
   "execution_count": 135,
   "metadata": {},
   "outputs": [],
   "source": [
    "library(tidyverse)\n",
    "library(repr)\n",
    "library(tidymodels)\n",
    "library(data.table)\n",
    "options(repr.matrix.max.rows = 6)"
   ]
  },
  {
   "cell_type": "code",
   "execution_count": 136,
   "metadata": {},
   "outputs": [
    {
     "name": "stderr",
     "output_type": "stream",
     "text": [
      "Warning message:\n",
      "“Duplicated column names deduplicated: '1.0' => '1.0_1' [3], '1.0' => '1.0_2' [6], '0.0' => '0.0_1' [12]”\n",
      "Parsed with column specification:\n",
      "cols(\n",
      "  `63.0` = \u001b[32mcol_double()\u001b[39m,\n",
      "  `1.0` = \u001b[32mcol_double()\u001b[39m,\n",
      "  `1.0_1` = \u001b[32mcol_double()\u001b[39m,\n",
      "  `145.0` = \u001b[32mcol_double()\u001b[39m,\n",
      "  `233.0` = \u001b[32mcol_double()\u001b[39m,\n",
      "  `1.0_2` = \u001b[32mcol_double()\u001b[39m,\n",
      "  `2.0` = \u001b[32mcol_double()\u001b[39m,\n",
      "  `150.0` = \u001b[32mcol_double()\u001b[39m,\n",
      "  `0.0` = \u001b[32mcol_double()\u001b[39m,\n",
      "  `2.3` = \u001b[32mcol_double()\u001b[39m,\n",
      "  `3.0` = \u001b[32mcol_double()\u001b[39m,\n",
      "  `0.0_1` = \u001b[31mcol_character()\u001b[39m,\n",
      "  `6.0` = \u001b[31mcol_character()\u001b[39m,\n",
      "  `0` = \u001b[32mcol_double()\u001b[39m\n",
      ")\n",
      "\n"
     ]
    },
    {
     "data": {
      "text/html": [
       "<style>\n",
       ".dl-inline {width: auto; margin:0; padding: 0}\n",
       ".dl-inline>dt, .dl-inline>dd {float: none; width: auto; display: inline-block}\n",
       ".dl-inline>dt::after {content: \":\\0020\"; padding-right: .5ex}\n",
       ".dl-inline>dt:not(:first-of-type) {padding-left: .5ex}\n",
       "</style><dl class=dl-inline><dt>age</dt><dd>54.2885572139303</dd><dt>resting_bp</dt><dd>131.741293532338</dd><dt>chol</dt><dd>244.233830845771</dd><dt>maximum_heart_rate_achieved</dt><dd>149.492537313433</dd></dl>\n"
      ],
      "text/latex": [
       "\\begin{description*}\n",
       "\\item[age] 54.2885572139303\n",
       "\\item[resting\\textbackslash{}\\_bp] 131.741293532338\n",
       "\\item[chol] 244.233830845771\n",
       "\\item[maximum\\textbackslash{}\\_heart\\textbackslash{}\\_rate\\textbackslash{}\\_achieved] 149.492537313433\n",
       "\\end{description*}\n"
      ],
      "text/markdown": [
       "age\n",
       ":   54.2885572139303resting_bp\n",
       ":   131.741293532338chol\n",
       ":   244.233830845771maximum_heart_rate_achieved\n",
       ":   149.492537313433\n",
       "\n"
      ],
      "text/plain": [
       "                        age                  resting_bp \n",
       "                   54.28856                   131.74129 \n",
       "                       chol maximum_heart_rate_achieved \n",
       "                  244.23383                   149.49254 "
      ]
     },
     "metadata": {},
     "output_type": "display_data"
    },
    {
     "name": "stderr",
     "output_type": "stream",
     "text": [
      "Warning message in mean.default(.x[[i]], ...):\n",
      "“argument is not numeric or logical: returning NA”\n",
      "Warning message in mean.default(.x[[i]], ...):\n",
      "“argument is not numeric or logical: returning NA”\n"
     ]
    },
    {
     "data": {
      "text/html": [
       "<table>\n",
       "<caption>A tibble: 1 × 6</caption>\n",
       "<thead>\n",
       "\t<tr><th scope=col>age</th><th scope=col>sex</th><th scope=col>resting_bp</th><th scope=col>chol</th><th scope=col>maximum_heart_rate_achieved</th><th scope=col>presence_of_h_d</th></tr>\n",
       "\t<tr><th scope=col>&lt;dbl&gt;</th><th scope=col>&lt;dbl&gt;</th><th scope=col>&lt;dbl&gt;</th><th scope=col>&lt;dbl&gt;</th><th scope=col>&lt;dbl&gt;</th><th scope=col>&lt;dbl&gt;</th></tr>\n",
       "</thead>\n",
       "<tbody>\n",
       "\t<tr><td>54.28856</td><td>NA</td><td>131.7413</td><td>244.2338</td><td>149.4925</td><td>NA</td></tr>\n",
       "</tbody>\n",
       "</table>\n"
      ],
      "text/latex": [
       "A tibble: 1 × 6\n",
       "\\begin{tabular}{llllll}\n",
       " age & sex & resting\\_bp & chol & maximum\\_heart\\_rate\\_achieved & presence\\_of\\_h\\_d\\\\\n",
       " <dbl> & <dbl> & <dbl> & <dbl> & <dbl> & <dbl>\\\\\n",
       "\\hline\n",
       "\t 54.28856 & NA & 131.7413 & 244.2338 & 149.4925 & NA\\\\\n",
       "\\end{tabular}\n"
      ],
      "text/markdown": [
       "\n",
       "A tibble: 1 × 6\n",
       "\n",
       "| age &lt;dbl&gt; | sex &lt;dbl&gt; | resting_bp &lt;dbl&gt; | chol &lt;dbl&gt; | maximum_heart_rate_achieved &lt;dbl&gt; | presence_of_h_d &lt;dbl&gt; |\n",
       "|---|---|---|---|---|---|\n",
       "| 54.28856 | NA | 131.7413 | 244.2338 | 149.4925 | NA |\n",
       "\n"
      ],
      "text/plain": [
       "  age      sex resting_bp chol     maximum_heart_rate_achieved presence_of_h_d\n",
       "1 54.28856 NA  131.7413   244.2338 149.4925                    NA             "
      ]
     },
     "metadata": {},
     "output_type": "display_data"
    }
   ],
   "source": [
    "\n",
    "heart_disease_data <- read_csv(\"processed.cleveland.data\")\n",
    "names(heart_disease_data) <- c(\"age\", \"sex\", \"chest_pain_type\", \"resting_bp\", \"chol\", \"fasting_blood_sugar\", \"resting_electrocardiographic_results\", \"maximum_heart_rate_achieved\", \"exercise_induced_angina\", \"oldpeak\", \"slope\", \"ca\", \"thal\", \"presence_of_h_d\")\n",
    "\n",
    "male <- heart_disease_data  %>%\n",
    "filter(sex == 1) %>%\n",
    "mutate(sex = \"Male\")\n",
    "\n",
    "female <- heart_disease_data %>%\n",
    "filter(sex == 0) %>%\n",
    "mutate(sex = \"Female\")\n",
    "\n",
    "heart_disease_data <- rbind(male, female)\n",
    "heart_disease_data <- heart_disease_data %>%\n",
    "select(-chest_pain_type, -fasting_blood_sugar, -resting_electrocardiographic_results, -exercise_induced_angina, -oldpeak, -slope, -thal, -ca)\n",
    "\n",
    "heart_disease_data_0 <-heart_disease_data %>%\n",
    "filter(presence_of_h_d == 0)\n",
    "\n",
    "heart_disease_data_1 <-heart_disease_data %>%\n",
    "filter(presence_of_h_d > 0) %>%\n",
    "mutate(presence_of_h_d = 1)\n",
    "\n",
    "heart_disease_data<-rbind(heart_disease_data_0, heart_disease_data_1) %>% \n",
    "mutate(presence_of_h_d = as_factor(presence_of_h_d))\n",
    "\n",
    "# heart_disease_data\n",
    "heart_split <- initial_split(heart_disease_data, prop = 0.66, strata = sex) \n",
    "training_data <- training(heart_split) \n",
    "# training_data\n",
    "\n",
    "my_plot<- training_data %>%\n",
    "       ggplot(aes(x = age, y = chol, color = sex)) +\n",
    "       geom_point()\n",
    "\n",
    "# training_data\n",
    "summ <- colMeans(training_data %>% select(-sex, -presence_of_h_d))\n",
    "#summ\n",
    "a <- modify(training_data, mean) %>% head(1)\n",
    "a\n",
    "\n",
    "# my_plot"
   ]
  },
  {
   "cell_type": "markdown",
   "metadata": {},
   "source": [
    "#### Methods"
   ]
  },
  {
   "cell_type": "markdown",
   "metadata": {},
   "source": [
    "I. We will conduct our data analysis by using the k-neighbor model.\n",
    "\n",
    "II. The variables and columns we will use are the data and columns we use are picked based on the attributes. Smoking is not included because it is not provided in the data set.\n",
    "\n",
    "II. We will visualize our results in the form of a scatterplot. "
   ]
  },
  {
   "cell_type": "markdown",
   "metadata": {},
   "source": [
    "#### Expected Outcomes and Significance"
   ]
  },
  {
   "cell_type": "markdown",
   "metadata": {},
   "source": [
    "I We expect to find that heart disease has a high correlation with the attributes of cholestrol levels, age, the resting blood pressure (trestbps) and the maximum hear rate achieved (thalach). \n",
    "\n",
    "II. The impacts of these findings would contribute to developing the current knowledge of factors of heart disease. Identifying the most influential components may help people decrease their odds of heart disease upon knowing which things are at play. Additionally, for factors that are controllable, people will be more conscious of their health and hopefully be inspired to change poor daily habits that could lead to heart disease.\n",
    "\n",
    "\n",
    "III. In the future this could lead to questions of ..."
   ]
  },
  {
   "cell_type": "code",
   "execution_count": null,
   "metadata": {},
   "outputs": [],
   "source": [
    "predictive classification problem"
   ]
  }
 ],
 "metadata": {
  "kernelspec": {
   "display_name": "R",
   "language": "R",
   "name": "ir"
  },
  "language_info": {
   "codemirror_mode": "r",
   "file_extension": ".r",
   "mimetype": "text/x-r-source",
   "name": "R",
   "pygments_lexer": "r",
   "version": "4.0.0"
  }
 },
 "nbformat": 4,
 "nbformat_minor": 4
}
